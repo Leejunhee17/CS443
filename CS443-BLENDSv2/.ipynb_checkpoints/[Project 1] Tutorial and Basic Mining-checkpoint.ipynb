{
 "cells": [
  {
   "cell_type": "markdown",
   "metadata": {},
   "source": [
    "## [Lab 4 (Part I)] BLENDS Node\n",
    "\n",
    "In Lab #4 you will work in BLENDS, a simple cryptocurrency framework we have built for CS443. The BLENDS framework provides an overall architecture with well-defined APIs so that students can focus on core concepts of Bitcoin-like cryptocurrency and do not worry about architecting the system from scratch.\n",
    "\n",
    "The framework makes the following assumptions:\n",
    "* All nodes communicate not directly with each other, but through a broadcast server provided in the framework.\n",
    "* Unless Bitcoin, here a single (priv, pub) key pair is associated with a node.  That is, we equate the concept of a pub key with a node.\n",
    "* We use RSA, instead of ECDSA for public key crypto.\n",
    "* We use SHA-512, instead of SHA-256. You will be using RSASSA-PKCS1_v1_5 of PyCryptodome [Modified on 2018/12/12]\n",
    "* We do not use Merkle tree, but just a simple linked list with hash pointers.\n",
    "* For ease of programming and balance-checking, we use an RDBMS called SQLite to store transactions and blocks.\n",
    "\n",
    "The broadcast server of the framework does the following:\n",
    "* It works as a communication center by accepting transactions and blocks from a node and broadcasting them to other nodes.\n",
    "* It drops transactions and blocks if they are formatted correctly.\n",
    "* [Under Construction] It runs a leaderboard.\n",
    "\n",
    "A node in the framework is architected as follows:\n",
    "* It is made up of two processes: main and CLI.\n",
    "* The main process forks a miner thread in order to mine continuously.\n",
    "* The CLI process is the command-line interface for typing in commands to be delivered to the node.  It is given in \"cli.py\".\n",
    "* The CLI process communicates with the main process over HTTP.  \"manager.py\" implements the interface between the CLI and main processes.  This is also given.\n",
    "* The main process is broken into 7 files: blockchain.py, db.py, node.py, crypto.py, miner.py, util.py, and manager.py. util.py and manager.py are given.  For the rest, students will have to fill in the function body given the specification.\n",
    " \n",
    "Now Part I of Lab 4.  First, let's start with digital signature.\n"
   ]
  },
  {
   "cell_type": "code",
   "execution_count": 1,
   "metadata": {},
   "outputs": [],
   "source": [
    "import json\n",
    "from blends.node.crypto import load_secret_key, sign, verify, get_pk\n",
    "\n",
    "MESSAGE = \"This is a test message\""
   ]
  },
  {
   "cell_type": "markdown",
   "metadata": {},
   "source": [
    "## Digital Signature: crypto.py\n",
    "\n",
    "You are asked to implement the following functions:\n",
    "* Create and save to a file an RSA secret key.\n",
    "* Load an RSA secret key from a file.\n",
    "* Get a public key from an RSA secret key.\n",
    "* Sign a message with an RSA secret key.\n",
    "\n",
    "We use RSA-2048 for digital signature. The parameter `publicExponent` is fixed at 0x10001 for all keys in this project.\n",
    "\n",
    "### Problem 1 : create_secret_key(fname)\n",
    "\n",
    "Implement `create_secret_key` function in [crypto.py](/edit/node/crypto.py)\n",
    "\n",
    "* It creates an RSA key and store it in a file, \"fname\". We keep it in a file so that when you stop in the middle and return, your node can continue with the same key.  You can look at the file format in \"key0.json\".\n"
   ]
  },
  {
   "cell_type": "markdown",
   "metadata": {},
   "source": [
    "### Problem 2 : load_secret_key(fname)\n",
    "\n",
    "Implement `load_secret_key` function in [crypto.py](/edit/node/crypto.py)\n",
    "\n",
    "* it returns secret key.\n",
    "* it will be used in sign function below."
   ]
  },
  {
   "cell_type": "markdown",
   "metadata": {},
   "source": [
    "### Problem 3 : get_pk(sk)\n",
    "\n",
    "Implement `get_pk` function in [crypto.py](/edit/node/crypto.py)\n",
    "\n",
    "* It returns public key from secret key."
   ]
  },
  {
   "cell_type": "markdown",
   "metadata": {},
   "source": [
    "### Problem 4 : sign(sk, message)\n",
    "\n",
    "Implement `sign` function in [crypto.py](/edit/node/crypto.py)\n",
    "\n",
    "* Use SHA-512 to convert the message to a hash digest. Use UTF-8 encoding for the message.\n",
    "* Sign message, i.e. encrypt the digest with your secret key, `sk`.\n",
    "* `sk`  is return value of `load_secret_key` above."
   ]
  },
  {
   "cell_type": "code",
   "execution_count": 2,
   "metadata": {},
   "outputs": [
    {
     "name": "stdout",
     "output_type": "stream",
     "text": [
      "0x38fa7016947c1597037b5440c2df5a3dc362509b10bcfc25fd97f5e84615a3c24c8c598c297b7b8e2d5a5d5f466d0527fda23ae0742febbe94e6f436049ee3c8a480a61f6c9d1005a08b1c637ded81047937841e6093583a84a1209224cb468eb16c1d0cc2eba46a193be98eb4dad25145276a093fc172e76a8ee3eed9ff0b7d467c66f4b38d88f99b155b45f4e8f264a7883952496c56d8a85cb96f697cd9ecd41b89a82b91e69ca183dbf0e9691b01dfadb5ac7fef75653f0d5e96974fd6a233fdf381df087f139430b9ae7e92637ec30305e694815a1b8f81ea359bf5cb60b7bc62d8d5f4ffb4491e3122aadba69da85793f0df94a683d3629b00d65c96d5\n",
      "<class 'str'>\n",
      "FAIL\n",
      "0x252579cee8427d3110d16f9ff639b55cc8c95947ca11217d96e2fe8acb9d36af012ff7f519e4bb954ab86e4793c92601e7822ed75746a7d1ae923d42ff3574ad7c5f2190e90af9b359b063df1e1a4978decc69d6ee873c6fd261c505c547fe805a2b288c8b29cb0333270b35bb18d583b92c88aa40c91ee7a2e59640e99350fe9c46b90de888296e14bb18075199bdbe2bc7defa361346c040371e5d81e50012addab141b37bb85899d1d2417c3397f074c147f9cbe8266e91f57a398f6d23c871f04df97fcededccd0c79afbabe3f441f0fdf55558bf8700cab5b892c36c7f2831a8513fe40d9a39105a8825734d422ea01b564f18c84d1c72e530d0a8fdeba\n",
      "<class 'str'>\n",
      "FAIL\n",
      "0xd792c07ae2a17d0e6567c41e3675b7a4c2535a2a074fa1a04c927f8958d8bbef0ca5296c251666b0c88af00b81cee9e75ec46483cffa52ba14f5298276ed3f5a6108361d3166b5f98d7d595df0fba3ebd9dfb5046671f1fbbef0c3c160e23c092378880199751ff556dcbfbed1e59d9d6e92570051ce2965ee2d011a86e9d72d056a1fe1af3f28317a2f45df4193ea595b5c3a3b2756947aba62f1e949b479de2c0a8a7b798affbeb50d752e8693ec9aa2cbeb53ddcb0e298f20830eefd736b1106f50b111240d5529a4d7a445cf711a4bb77bfa27b345626442f889514d9a6bed00aa0f63edf1d94af420407a84569da3a21f6a055c26c171192ef33172aa54\n",
      "<class 'str'>\n",
      "FAIL\n"
     ]
    }
   ],
   "source": [
    "# Test  for Problems 2 to 4; Problem 1 is not tested here.\n",
    "\n",
    "for i in range(3):\n",
    "    key_fname = \"key{}.json\".format(i)\n",
    "    sk = load_secret_key(key_fname)\n",
    "    sig_computed = sign(sk, MESSAGE)\n",
    "    sig_fname = \"sig{}.json\".format(i)\n",
    "    with open(sig_fname, \"r\") as sig_f:\n",
    "        data = json.loads(sig_f.readline())\n",
    "        sig = data[\"sig\"]\n",
    "        if sig_computed == sig:\n",
    "            print(\"PASS\")\n",
    "        else:\n",
    "            print(\"FAIL\")"
   ]
  },
  {
   "cell_type": "markdown",
   "metadata": {},
   "source": [
    "### Problem 5 : verify(pk, msg, sig)\n",
    "\n",
    "Next, Implement `verify` function in [crypto.py](/edit/node/crypto.py)\n",
    "\n",
    "* it takes a public key `pk`, a message `msg`, and a signature `sig`.\n"
   ]
  },
  {
   "cell_type": "code",
   "execution_count": 3,
   "metadata": {},
   "outputs": [
    {
     "ename": "TypeError",
     "evalue": "unsupported operand type(s) for pow(): 'str', 'int', 'int'",
     "output_type": "error",
     "traceback": [
      "\u001b[0;31m---------------------------------------------------------------------------\u001b[0m",
      "\u001b[0;31mTypeError\u001b[0m                                 Traceback (most recent call last)",
      "\u001b[0;32m<ipython-input-3-c64712790de7>\u001b[0m in \u001b[0;36m<module>\u001b[0;34m\u001b[0m\n\u001b[1;32m     10\u001b[0m         \u001b[0mdata\u001b[0m \u001b[0;34m=\u001b[0m \u001b[0mjson\u001b[0m\u001b[0;34m.\u001b[0m\u001b[0mloads\u001b[0m\u001b[0;34m(\u001b[0m\u001b[0msig_f\u001b[0m\u001b[0;34m.\u001b[0m\u001b[0mreadline\u001b[0m\u001b[0;34m(\u001b[0m\u001b[0;34m)\u001b[0m\u001b[0;34m)\u001b[0m\u001b[0;34m\u001b[0m\u001b[0;34m\u001b[0m\u001b[0m\n\u001b[1;32m     11\u001b[0m         \u001b[0msig\u001b[0m \u001b[0;34m=\u001b[0m \u001b[0mdata\u001b[0m\u001b[0;34m[\u001b[0m\u001b[0;34m\"sig\"\u001b[0m\u001b[0;34m]\u001b[0m\u001b[0;34m\u001b[0m\u001b[0;34m\u001b[0m\u001b[0m\n\u001b[0;32m---> 12\u001b[0;31m         \u001b[0;32mif\u001b[0m \u001b[0mverify\u001b[0m\u001b[0;34m(\u001b[0m\u001b[0mpk\u001b[0m\u001b[0;34m,\u001b[0m \u001b[0mMESSAGE\u001b[0m\u001b[0;34m,\u001b[0m \u001b[0msig\u001b[0m\u001b[0;34m)\u001b[0m\u001b[0;34m:\u001b[0m\u001b[0;34m\u001b[0m\u001b[0;34m\u001b[0m\u001b[0m\n\u001b[0m\u001b[1;32m     13\u001b[0m             \u001b[0mprint\u001b[0m\u001b[0;34m(\u001b[0m\u001b[0;34m\"PASS\"\u001b[0m\u001b[0;34m)\u001b[0m\u001b[0;34m\u001b[0m\u001b[0;34m\u001b[0m\u001b[0m\n\u001b[1;32m     14\u001b[0m         \u001b[0;32melse\u001b[0m\u001b[0;34m:\u001b[0m\u001b[0;34m\u001b[0m\u001b[0;34m\u001b[0m\u001b[0m\n",
      "\u001b[0;32m~/CS443-BLENDSv2/blends/node/crypto.py\u001b[0m in \u001b[0;36mverify\u001b[0;34m(pk, msg, sig)\u001b[0m\n\u001b[1;32m     26\u001b[0m     \u001b[0;32mreturn\u001b[0m \u001b[0mboolean\u001b[0m\u001b[0;34m\u001b[0m\u001b[0;34m\u001b[0m\u001b[0m\n\u001b[1;32m     27\u001b[0m     '''\n\u001b[0;32m---> 28\u001b[0;31m     \u001b[0msigTodigest\u001b[0m \u001b[0;34m=\u001b[0m \u001b[0mpow\u001b[0m\u001b[0;34m(\u001b[0m\u001b[0msig\u001b[0m\u001b[0;34m,\u001b[0m \u001b[0mpk\u001b[0m\u001b[0;34m.\u001b[0m\u001b[0me\u001b[0m\u001b[0;34m,\u001b[0m \u001b[0mpk\u001b[0m\u001b[0;34m.\u001b[0m\u001b[0mn\u001b[0m\u001b[0;34m)\u001b[0m\u001b[0;34m\u001b[0m\u001b[0;34m\u001b[0m\u001b[0m\n\u001b[0m\u001b[1;32m     29\u001b[0m \u001b[0;34m\u001b[0m\u001b[0m\n\u001b[1;32m     30\u001b[0m     \u001b[0;32mif\u001b[0m \u001b[0mpsig\u001b[0m \u001b[0;34m==\u001b[0m \u001b[0msig\u001b[0m\u001b[0;34m:\u001b[0m\u001b[0;34m\u001b[0m\u001b[0;34m\u001b[0m\u001b[0m\n",
      "\u001b[0;31mTypeError\u001b[0m: unsupported operand type(s) for pow(): 'str', 'int', 'int'"
     ]
    }
   ],
   "source": [
    "# Test  for Problem 5\n",
    "WRONG_SIG = \"wrong signature\"\n",
    "\n",
    "for i in range(3):\n",
    "    key_fname = \"key{}.json\".format(i)\n",
    "    sk = load_secret_key(key_fname)\n",
    "    pk = get_pk(sk)\n",
    "    sig_fname = \"sig{}.json\".format(i)\n",
    "    with open(sig_fname, \"r\") as sig_f:\n",
    "        data = json.loads(sig_f.readline())\n",
    "        sig = data[\"sig\"]\n",
    "        if verify(pk, MESSAGE, sig):\n",
    "            print(\"PASS\")\n",
    "        else:\n",
    "            print(\"FAIL\")"
   ]
  },
  {
   "cell_type": "markdown",
   "metadata": {},
   "source": [
    "\n",
    "### Problem 6 : get_hash(msg)\n",
    "\n",
    "To send a block to a peer, you need to format the hash digest into a hexadecimal number string.\n",
    "\n",
    "* Implement `get_hash` function in [crypto.py](/edit/node/crypto.py).\n"
   ]
  },
  {
   "cell_type": "markdown",
   "metadata": {},
   "source": [
    "\n"
   ]
  }
 ],
 "metadata": {
  "kernelspec": {
   "display_name": "Python 3",
   "language": "python",
   "name": "python3"
  },
  "language_info": {
   "codemirror_mode": {
    "name": "ipython",
    "version": 3
   },
   "file_extension": ".py",
   "mimetype": "text/x-python",
   "name": "python",
   "nbconvert_exporter": "python",
   "pygments_lexer": "ipython3",
   "version": "3.6.7"
  }
 },
 "nbformat": 4,
 "nbformat_minor": 2
}
