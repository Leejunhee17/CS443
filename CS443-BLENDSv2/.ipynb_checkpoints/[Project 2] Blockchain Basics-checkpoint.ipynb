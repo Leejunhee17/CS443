{
 "cells": [
  {
   "cell_type": "markdown",
   "metadata": {},
   "source": [
    "## [Lab 4 Part II] Blockchain Basics\n",
    "\n",
    "In Part I, you have implemented basic cryptographic functions. In Part II, you will manage transactions and blocks.\n",
    "\n",
    "Part II consists of four parts.\n",
    "\n",
    "* Model: A blockchain has blocks of transactions.  You will implement functions to create and manage them.\n",
    "* DBManager: BLENDS uses a RDBMS called SQLite.  You will implement functions to store, index, and search blockchain data.\n",
    "* Verifier/Validator: You will implement functions to verify if blocks and transactions are formatted correctly.\n",
    "* Miner: You will implement functions to mine a new block.\n",
    "\n",
    "We have mined a few blocks and put them in \"scenario.db\".  The first block in the block chain is identified with a parent block hash value of 0xdecaf.\n"
   ]
  },
  {
   "cell_type": "code",
   "execution_count": 1,
   "metadata": {},
   "outputs": [],
   "source": [
    "from blends.node import crypto, util\n",
    "import json\n",
    "\n",
    "sender = crypto.load_secret_key('key0.json')\n",
    "receiver = crypto.load_secret_key('key1.json')\n",
    "\n",
    "f = open('key0.json', 'r')\n",
    "sender_n = int(json.loads(f.read())['modulus'],16)\n",
    "f = open('key1.json', 'r')\n",
    "receiver_n = int(json.loads(f.read())['modulus'],16)"
   ]
  },
  {
   "cell_type": "markdown",
   "metadata": {},
   "source": [
    "## Section 1: Model\n",
    "\n",
    "All blocks and transactions are objects. You will learn how to manage transactions and blocks one by one in this section.\n",
    "\n",
    "### Tutorial 1 : Create a new transaction\n",
    "\n",
    "BLENDS offers the following API to create a new transaction.\n",
    "\n",
    "```python\n",
    "def new_transaction(version: str, sender: str, receiver: str, timestamp: str, amount: int):\n",
    "```\n"
   ]
  },
  {
   "cell_type": "code",
   "execution_count": 2,
   "metadata": {},
   "outputs": [],
   "source": [
    "from blends.node.model import Transaction\n",
    "transaction = Transaction.new_transaction(\"test\", hex(sender_n), hex(receiver_n), util.now(), 10)"
   ]
  },
  {
   "cell_type": "markdown",
   "metadata": {},
   "source": [
    "This transaction has not been digital signed and must be signed with the sender's private key before use."
   ]
  },
  {
   "cell_type": "markdown",
   "metadata": {},
   "source": [
    "### Tutorial 2 : Transaction Hash\n",
    "\n",
    "The transaction hash is a unique identifier for each transaction.  You compute the transaction hash by applying a hash function to the transaction payload.  Below is the code for computing the transaction hash.\n",
    "\n",
    "**You must use `get_payload` to fetch the transaction payload.**"
   ]
  },
  {
   "cell_type": "code",
   "execution_count": 3,
   "metadata": {},
   "outputs": [
    {
     "name": "stdout",
     "output_type": "stream",
     "text": [
      "<Transaction: e0e1d2274894a5577909798c60a2e22e99b4d2699308cc553191f67e6226f6d473a327c2c67526a34c15710e59006f27ed4987074e66822c935dea276d52cad7>\n"
     ]
    }
   ],
   "source": [
    "payload = transaction.get_payload()\n",
    "hash_ = crypto.get_hash(payload)\n",
    "transaction.set_hash(hash_)\n",
    "\n",
    "print(transaction)"
   ]
  },
  {
   "cell_type": "markdown",
   "metadata": {},
   "source": [
    "### Exercise 1 : Sign a transaction\n",
    "\n",
    "You have learned how to compute the hash of a transaction.  Now you will sign the `transaction`.\n",
    "\n",
    "the transaction's signature is the result of the sign function. transaction hash is the input of the function.\n",
    "\n",
    "```\n",
    "def set_sign(self, sign: str):\n",
    "```\n"
   ]
  },
  {
   "cell_type": "code",
   "execution_count": 4,
   "metadata": {},
   "outputs": [],
   "source": [
    "sign = None #<- should be implemented\n",
    "\n",
    "transaction.set_sign(sign)"
   ]
  },
  {
   "cell_type": "markdown",
   "metadata": {},
   "source": [
    "### Tutorial 3 : Create a new block\n",
    "\n",
    "You have created a transaction, computed its hash, and signed it.  Now let's create a block.  In BLENDS has defined a  `Block` class. Use the following API to create a new block.\n",
    "\n",
    "```python\n",
    "def new_block(version: str, parent: str, timestamp: str, miner: str, difficulty: int):\n",
    "```\n"
   ]
  },
  {
   "cell_type": "code",
   "execution_count": 5,
   "metadata": {},
   "outputs": [],
   "source": [
    "from blends.node.model import Block\n",
    "block = Block.new_block(\"test\", None, util.now(), hex(sender_n), 0)"
   ]
  },
  {
   "cell_type": "markdown",
   "metadata": {},
   "source": [
    "### Tutorial 4: Nonce\n",
    "\n",
    "Every block will have a nonce. You change the value of this nonce later in mining.  Use the following API to change the value of the nonce.\n",
    "\n",
    "```python\n",
    "def set_nonce(self, nonce: int)\n",
    "```\n"
   ]
  },
  {
   "cell_type": "code",
   "execution_count": 6,
   "metadata": {},
   "outputs": [],
   "source": [
    "block.set_nonce(1)"
   ]
  },
  {
   "cell_type": "markdown",
   "metadata": {},
   "source": [
    "### Tutorial 5: Add a transaction to a block\n",
    "\n",
    "A single block may contain multiple transactions.  In BLENDS, you can add transactions to `blocks.txt`.\n"
   ]
  },
  {
   "cell_type": "code",
   "execution_count": 7,
   "metadata": {},
   "outputs": [],
   "source": [
    "block.txs.append(transaction)"
   ]
  },
  {
   "cell_type": "markdown",
   "metadata": {},
   "source": [
    "### Exercise 2 : Block Hash\n",
    "\n",
    "Every block has a unique hash value. In BLENDS, use the following API to set the hash value.\n",
    "\n",
    "```python\n",
    "def set_hash(self, hash)\n",
    "```\n",
    "\n",
    "As with transactions, you must use the `get_payload` function to get the payload of a block. Now compute the hash of the block.\n",
    "\n",
    "Below compute the hash of the block you just created above."
   ]
  },
  {
   "cell_type": "code",
   "execution_count": 8,
   "metadata": {},
   "outputs": [
    {
     "name": "stdout",
     "output_type": "stream",
     "text": [
      "{\"difficulty\": 0, \"miner\": \"0xb7054a9125f2f677f174130d145a4d76c64ad1e49534bd61fecabcfac309a6bea0dc40d256d086be844c1b12813bf9ed7a79faa9c2559a5af4b07b789432804286a43d64c7c4c9f3fa21353e3064bcf8dd63154862265511cd438e01470b9eda36906ae7de1d40621b78f4302d6cec9211f3da8e537a1043ac91d0bd7d417062477bb6c21761ec15091526f034ad7a36f161cb637a0282d832b236eb4be4291a0b9e55de4664a511e3418bda4300940cc4fcf95ee610a39efc256b6e9d99bd356e412477c8cd8ef704ebab0d904a865a94f42ae775eae7ea7fe36a404a2f5230bd8b5e73f0c1d66d0cd87fd65857e1bdc58620255aca68bac8eff78132532e31\", \"nonce\": 1, \"parent\": null, \"timestamp\": \"2018-12-19T10:40:09\", \"transactions\": [{\"header\": {\"hash\": \"e0e1d2274894a5577909798c60a2e22e99b4d2699308cc553191f67e6226f6d473a327c2c67526a34c15710e59006f27ed4987074e66822c935dea276d52cad7\", \"sign\": null, \"type\": \"transaction\", \"version\": \"test\"}, \"payload\": {\"amount\": 10, \"receiver\": \"0xafc048858bbf511c56a5a3bfd866211a4263570ad5ac47c6596be0324dfae0ccdc8d04d3e576390462d554a0873724cbbca4246632074a24eb5cac62b3150d1cacf7b11e0e0507d7b3f1ab0253539c701db8e04ff465567add08c34d930779d278fc37245e506a3528af318b1da611ddb1f6e160b776b0c10af1f6e4894bebc985a84c2dd72dbea7363448a322b8a4f480de1167c2901e288767098ed0201f5cc73ec2328de85a2f0296f58153e1adabfd99bf7c12447697983b2940c6fc2f6f9db21769afc9cb1579f651786242267311609a95313d8a3ebf76fe2743507c9017feabc4d49c601a6b00d3107fcc1f7c5358f14a83267970b5973233501fb3df\", \"sender\": \"0xb7054a9125f2f677f174130d145a4d76c64ad1e49534bd61fecabcfac309a6bea0dc40d256d086be844c1b12813bf9ed7a79faa9c2559a5af4b07b789432804286a43d64c7c4c9f3fa21353e3064bcf8dd63154862265511cd438e01470b9eda36906ae7de1d40621b78f4302d6cec9211f3da8e537a1043ac91d0bd7d417062477bb6c21761ec15091526f034ad7a36f161cb637a0282d832b236eb4be4291a0b9e55de4664a511e3418bda4300940cc4fcf95ee610a39efc256b6e9d99bd356e412477c8cd8ef704ebab0d904a865a94f42ae775eae7ea7fe36a404a2f5230bd8b5e73f0c1d66d0cd87fd65857e1bdc58620255aca68bac8eff78132532e31\", \"timestamp\": \"2018-12-19T10:40:09\"}}]}\n"
     ]
    }
   ],
   "source": [
    "payload = block.get_payload()\n",
    "print(payload)\n",
    "\n",
    "## should be implemented\n",
    "\n"
   ]
  },
  {
   "cell_type": "markdown",
   "metadata": {},
   "source": [
    "So far you have learned to create transactions and blocks and set their hash values.  Next, you will implement blockchain operations on `transactions` and `blocks`."
   ]
  },
  {
   "cell_type": "markdown",
   "metadata": {},
   "source": [
    "## Section 2: DBManager\n",
    "\n",
    "BLENDS uses SQLite to store and index transactions and blocks.\n",
    "\n",
    "In this section, you will implement `DBManager` in BLENDS.\n",
    "\n",
    "You have not implemented mining functions, and thus BLENDS offers a preloaded database for you to work with.\n"
   ]
  },
  {
   "cell_type": "code",
   "execution_count": 9,
   "metadata": {},
   "outputs": [],
   "source": [
    "# Initiazation code for DBManager\n",
    "from blends.node.blockchain.dbmanager import DBManager\n",
    "dbmanager = DBManager(\"sqlite:///scenario.db\")"
   ]
  },
  {
   "cell_type": "markdown",
   "metadata": {},
   "source": [
    "### Problem 1 : `DBManager.search_block`\n",
    "\n",
    "Implement `def search_block(self, block_hash: str)` function in [dbmanager.py](/edit/blends/node/blockchain/dbmanager.py)\n",
    "\n",
    "* Given a hash value, search the block with the hash value.\n",
    "* If the search returns successful, return the `Block` object; otherwise, return `None`.\n",
    "* Using `session.query(Block).all()`, iterate through the entire block chain.\n",
    "* If you are familiar with DB and ORM, feel free to use ORM."
   ]
  },
  {
   "cell_type": "code",
   "execution_count": 10,
   "metadata": {},
   "outputs": [
    {
     "name": "stdout",
     "output_type": "stream",
     "text": [
      "PASS\n",
      "PASS\n",
      "PASS\n",
      "PASS\n",
      "PASS\n"
     ]
    }
   ],
   "source": [
    "# Test  \n",
    "session = dbmanager.get_session()\n",
    "block_set = session.query(Block).all()\n",
    "for block in block_set:\n",
    "    header = block.get_header()\n",
    "    if(block == dbmanager.search_block(header[\"hash\"])):\n",
    "        print(\"PASS\")\n",
    "    else:\n",
    "        print(\"FAIL\")"
   ]
  },
  {
   "cell_type": "markdown",
   "metadata": {},
   "source": [
    "### Problem 2: `DBManager.get_height`\n",
    "\n",
    "Implement `def get_height(self, block_hash: str)` function in [dbmanager.py](/edit/blends/node/blockchain/dbmanager.py)\n",
    "\n",
    "* Now let's compute the height of the block. BLENDS does not use the Merkle tree, thus the height equals the length in the blockchain.\n",
    "* If successful, the function returns `height : int`; otherwise, `None`.\n",
    "* The genesis block with no parent has `height` of 0.\n",
    "* Iterate through the blocks using `session.query(Block).all()`.\n",
    "* Feel free to use ORM.\n"
   ]
  },
  {
   "cell_type": "code",
   "execution_count": 11,
   "metadata": {},
   "outputs": [
    {
     "name": "stdout",
     "output_type": "stream",
     "text": [
      "PASS\n",
      "PASS\n",
      "PASS\n",
      "PASS\n",
      "PASS\n"
     ]
    }
   ],
   "source": [
    "# Test  \n",
    "session = dbmanager.get_session()\n",
    "block_set = session.query(Block).all()\n",
    "height_set = [0, 1, 2, 3, 4]\n",
    "for i in range(5):\n",
    "    header = block_set[i].get_header()\n",
    "    if(height_set[i] == dbmanager.get_height(header[\"hash\"])):\n",
    "        print(\"PASS\")\n",
    "    else:\n",
    "        print(\"FAIL\")"
   ]
  },
  {
   "cell_type": "markdown",
   "metadata": {},
   "source": [
    "### Problem 3 : `DBManager.get_current`\n",
    "\n",
    "Implement `def get_current(self)` function in [dbmanager.py](/edit/blends/node/blockchain/dbmanager.py)\n",
    "\n",
    "* Now let's fetch the highest block in the database.\n",
    "* If there are more than one block with the same height, either will do.\n",
    "* You may use functions implemented above.\n",
    "* You can iterate through the chain using `session.query(Block).all()`.\n",
    "* Again, feel free to use ORM.\n"
   ]
  },
  {
   "cell_type": "code",
   "execution_count": 12,
   "metadata": {},
   "outputs": [
    {
     "name": "stdout",
     "output_type": "stream",
     "text": [
      "PASS\n"
     ]
    }
   ],
   "source": [
    "# Test  \n",
    "session = dbmanager.get_session()\n",
    "block_set = session.query(Block).all()\n",
    "if(block_set[4] == dbmanager.get_current()):\n",
    "    print(\"PASS\")\n",
    "else:\n",
    "    print(\"FAIL\")"
   ]
  },
  {
   "cell_type": "markdown",
   "metadata": {},
   "source": [
    "### Problem 4 : `DBManager.get_longest`\n",
    "\n",
    "Implement `def get_longest(self)` function in [dbmanager.py](/edit/blends/node/blockchain/dbmanager.py)\n",
    "\n",
    "* Now let's fetch the longest chain in the database.  Just get the longest chain.\n",
    "* If there are more than one longest chain with the same length, either will do.\n",
    "* You may use functions implemented above.\n",
    "* You can iterate through the chain using `session.query(Block).all()`.\n",
    "* Again, feel free to use ORM."
   ]
  },
  {
   "cell_type": "code",
   "execution_count": 13,
   "metadata": {},
   "outputs": [
    {
     "name": "stdout",
     "output_type": "stream",
     "text": [
      "PASS\n"
     ]
    }
   ],
   "source": [
    "# Test  \n",
    "session = dbmanager.get_session()\n",
    "block_set = session.query(Block).all()\n",
    "longest_chain = dbmanager.get_longest()\n",
    "if block_set == longest_chain:\n",
    "    print(\"PASS\")\n",
    "else:\n",
    "    print(\"FAIL\")"
   ]
  },
  {
   "cell_type": "markdown",
   "metadata": {},
   "source": [
    "### Problem 5 : `DBManager.search_transaction`\n",
    "\n",
    "Implement `def search_transaction(self, tx_hash: str)` function in [dbmanager.py](/edit/blends/node/blockchain/dbmanager.py)\n",
    "\n",
    "* Search the transaction by the hash value.\n",
    "* Iterate throug the transactions using `session.query(Transaction).all()`.\n",
    "* Again, feel free to use ORM."
   ]
  },
  {
   "cell_type": "code",
   "execution_count": 14,
   "metadata": {},
   "outputs": [
    {
     "name": "stdout",
     "output_type": "stream",
     "text": [
      "PASS\n",
      "PASS\n",
      "PASS\n",
      "PASS\n"
     ]
    }
   ],
   "source": [
    "# Test  \n",
    "session = dbmanager.get_session()\n",
    "tx_set = session.query(Transaction).all()\n",
    "for tx in tx_set:\n",
    "    header = tx.get_header()\n",
    "    if(tx == dbmanager.search_transaction(header[\"hash\"])):\n",
    "        print(\"PASS\")\n",
    "    else:\n",
    "        print(\"FAIL\")"
   ]
  },
  {
   "cell_type": "markdown",
   "metadata": {},
   "source": [
    "### Problem 6 : `DBManager.get_block_balance`\n",
    "\n",
    "* Now let's compute the balance of a block.\n",
    "* A block's balance is the dictionary of all address-amount of money mapping from the genesis to the block, which can be calculated from the parent block's balance and target block's mining reward, and all transactions in the block.\n",
    "* The API must return `Dictionary` of `{ \"key\" : value }`.\n",
    "* Iterate through the blocks using `session.query(Block).all()`.\n",
    "* You should add `REWARD` to miner's account.\n",
    "* Again, feel free to use ORM.\n",
    "\n",
    "Implement `def get_block_balance(self, block_hash: str)` function in [verifier.py](/edit/blends/node/blockchain/dbmanager.py)"
   ]
  },
  {
   "cell_type": "code",
   "execution_count": 15,
   "metadata": {},
   "outputs": [
    {
     "name": "stdout",
     "output_type": "stream",
     "text": [
      "PASS\n",
      "PASS\n",
      "PASS\n"
     ]
    }
   ],
   "source": [
    "# Test  \n",
    "session = dbmanager.get_session()\n",
    "block_set = session.query(Block).all()\n",
    "miner_set = []\n",
    "for block in block_set:\n",
    "    if block.miner not in miner_set:\n",
    "        miner_set.append(block.miner)\n",
    "value_set = [54, 20, 26]\n",
    "\n",
    "block = block_set[4]\n",
    "header = block.get_header()\n",
    "balance_dict = dbmanager.get_block_balance(header[\"hash\"])\n",
    "for i in range(3):\n",
    "    if balance_dict[miner_set[i]] == value_set[i]:\n",
    "        print(\"PASS\")\n",
    "    else:\n",
    "        print(\"FAIL\")"
   ]
  },
  {
   "cell_type": "markdown",
   "metadata": {},
   "source": [
    "## Section 3: Verifier/Validator\n",
    "\n",
    "Here you will implement function to verify correctness of transactions and blocks.\n",
    "\n",
    "BLENDS employs two steps of `Verifier` and `Validator`.\n",
    "\n",
    "* Verifier: verifies intra-transaction and intra-block their own correctness.\n",
    "* Validator: veritifes intra-transaction and inter-block correctness.\n"
   ]
  },
  {
   "cell_type": "code",
   "execution_count": 16,
   "metadata": {},
   "outputs": [],
   "source": [
    "# Initialization\n",
    "from blends.node.blockchain.verifier import Verifier\n",
    "verifier = Verifier()"
   ]
  },
  {
   "cell_type": "markdown",
   "metadata": {},
   "source": [
    "### Problem 1 : `Verifier.verify_transaction`\n",
    "\n",
    "Implement `def verify_transaction(self, transaction: Transaction)` function in [verifier.py](/edit/blends/node/blockchain/verifier.py)\n",
    "\n",
    "* This funciton checks in a transaction the following points: (1) all fields in transaction are in correct format; (2) the hash and the digital signature are correct.\n",
    "* If the transaction passes all the checks, the function returns `True`; otherwise `False`."
   ]
  },
  {
   "cell_type": "code",
   "execution_count": 17,
   "metadata": {},
   "outputs": [
    {
     "name": "stdout",
     "output_type": "stream",
     "text": [
      "PASS\n",
      "PASS\n",
      "PASS\n",
      "PASS\n",
      "Hash Error\n",
      "get_hash(payload): 144b00a361370c0d8c1d00ec1e30c230779c7e75298c502bed41efb5073213dc8c533e816a223b74e58c274c18c14b34617e8dda271ee2e6daa19caf1fd62519\n",
      "hash_: 0xdeadbeef\n",
      "PASS\n",
      "Hash Error\n",
      "get_hash(payload): 26d35440fc9b094aef310b005b6d661fedd6b31046c0ca2be7ae7ee33d41a2d17e0a2467f26a889e33838241c4af87234bbdde533aed3b2f81cf0943bc36e035\n",
      "hash_: 0xcaf6e1f6734a50f00f2b6a9247c2c9b4009cd5a248aaf677f2b1b64d63900f7977519ea32e904ad13679ed60c97bcf2e3f55ea0ce289195c34ddaeb02cb23065\n",
      "PASS\n",
      "Hash Error\n",
      "get_hash(payload): da4f7ade58f45713127c401c5caa185769b5584cff11be5b4067a660de458270e5846f1521f157323e2086f32552d3367f31f9ff5471435da01f4ce7e03c71bf\n",
      "hash_: 0x5a249675a42f50e64ca81103aff30b3eb3cc9961b2192d44b5723e5789783120abd8677fb9be5049b85416f9831b99f77933571b1b40c2d05c8556259daf65fc\n",
      "PASS\n",
      "Hash Error\n",
      "get_hash(payload): 837f86662b93cbe185a04461260b896b8020d6774a37fc0b96d4084746d3fdd970f880a472615940709149ec6291585de0506610b6eafa936dcc478be7d1a6f3\n",
      "hash_: 0x645a5fca3ca924f613596d3e753e51b16adfb6c463a850819be0ea3cc3c33544e2fcc5ab1c105b0de7c9ccef04f559b22ef1c7aee85a8e81aaf9cd0ff6465d60\n",
      "PASS\n"
     ]
    }
   ],
   "source": [
    "# Test  \n",
    "import copy\n",
    "session = dbmanager.get_session()\n",
    "tx_set = []\n",
    "tx_set = session.query(Transaction).all()\n",
    "for tx in tx_set:\n",
    "    if(verifier.verify_transaction(tx)):\n",
    "        print(\"PASS\")\n",
    "    else:\n",
    "        print(\"FAIL\")\n",
    "\n",
    "ill_tx_set = copy.deepcopy(tx_set)\n",
    "ill_tx_set[0].hash = \"0xdeadbeef\"\n",
    "ill_tx_set[1].receiver = ill_tx_set[1].sender\n",
    "ill_tx_set[2].amount = 1000\n",
    "ill_tx_set[3].timestamp = \"2012-12-08T05:14:24\"\n",
    "for ill_tx in ill_tx_set:\n",
    "    if(verifier.verify_transaction(ill_tx)):\n",
    "        print(\"FAIL\")\n",
    "    else:\n",
    "        print(\"PASS\")"
   ]
  },
  {
   "cell_type": "markdown",
   "metadata": {},
   "source": [
    "### Problem 2: `Verifier.verify_block`\n",
    "\n",
    "Implement `def verify_block(self, block: Block)` function in [verifier.py](/edit/blends/node/blockchain/verifier.py)\n",
    "\n",
    "* This function checks in a block the following points: (1) all fields are correct; (2) the hash is correct; (3) if the hash is within the given range of hash value from `Difficulty`. (4) all transactions in the block are correct.\n",
    "* Block hash must be smaller than target difficulty hash: 2^512/2^(20+difficulty)\n",
    "* If the block passes all the checks, the function returns `True`; otherwise `False`."
   ]
  },
  {
   "cell_type": "code",
   "execution_count": 18,
   "metadata": {},
   "outputs": [
    {
     "name": "stdout",
     "output_type": "stream",
     "text": [
      "PASS\n",
      "PASS\n",
      "PASS\n",
      "PASS\n",
      "PASS\n",
      "Hash Error\n",
      "get_hash(payload): 00000015606dd662281200f776e785cb071cb06b5a6bec327a08a5fffdd4b342230d8510d575f5f633f51ed0e2514ad90ae9ed4eef7e6ce8854a569d00c3561e\n",
      "hash_: 0xdeadbeef\n",
      "PASS\n",
      "Hash Error\n",
      "get_hash(payload): 619b01c62cca702f181857bef73dcd00ab10a2af19774076d4cfcf4dcf15fbf0e6e903d4e8ba613e9db73164b6d044ad40c0e3a1237344c45ebb77f3197ef1e4\n",
      "hash_: 0x0000000c81b3548970cf3b35ba21ca9bd05e57deadd8d61ac381fc6a6f5c760d3ce6c7b403d98ab27c4a22489adc62c439720c98686bc1f1d98f89c90dd5b6f0\n",
      "PASS\n"
     ]
    }
   ],
   "source": [
    "# Test  \n",
    "session = dbmanager.get_session()\n",
    "block_set = session.query(Block).all()\n",
    "for block in block_set:\n",
    "    if(verifier.verify_block(block)):\n",
    "        print(\"PASS\")\n",
    "    else:\n",
    "        print(\"FAIL\")\n",
    "        \n",
    "ill_block_set = []\n",
    "ill_block_set.append(copy.deepcopy(block_set[0]))\n",
    "ill_block_set.append(copy.deepcopy(block_set[1]))\n",
    "ill_block_set[0].hash = \"0xdeadbeef\"\n",
    "ill_block_set[1].difficulty = 12\n",
    "for ill_block in ill_block_set:\n",
    "    if(verifier.verify_block(ill_block)):\n",
    "        print(\"FAIL\")\n",
    "    else:\n",
    "        print(\"PASS\")"
   ]
  },
  {
   "cell_type": "markdown",
   "metadata": {},
   "source": [
    "### Problem 3: `Blockchain.validate_transaction`\n",
    "\n",
    "Implement `def validate_transaction(self, tx: Transaction, block: Block) ` function in [blockchain.py](/edit/blends/node/blockchain/blockchain.py)\n",
    "\n",
    "* This function checks if the transaction can be added to a block.\n",
    "* First, it must check if the transaction has been included in a block in. If so, return False.\n",
    "* Then, check the balance is correct when you suppose that the transaction is added tot the target block. If the balance is not correct, return False.\n",
    "* If it pass all checks, the function returns `True`; otherwise, `False`."
   ]
  },
  {
   "cell_type": "code",
   "execution_count": 19,
   "metadata": {},
   "outputs": [
    {
     "name": "stdout",
     "output_type": "stream",
     "text": [
      "PASS\n",
      "Sender's credit is less than amount\n",
      "PASS\n",
      "This transaction is already in block chain\n",
      "PASS\n"
     ]
    }
   ],
   "source": [
    "from blends.node.blockchain.blockchain import Blockchain\n",
    "blockchain = Blockchain(\"sqlite:///scenario.db\")\n",
    "# Test  \n",
    "session = dbmanager.get_session()\n",
    "block_set = session.query(Block).all()\n",
    "tx_set = session.query(Transaction).all()\n",
    "\n",
    "# good transaction\n",
    "new_tx = Transaction.new_transaction(\"beta\", hex(sender_n), hex(receiver_n), \"2018-12-08T08:28:38\", 10)\n",
    "payload = new_tx.get_payload()\n",
    "hash_ = crypto.get_hash(payload)\n",
    "new_tx.set_hash(hash_)\n",
    "new_tx.set_sign(crypto.sign(sender, new_tx.hash))\n",
    "# bad transaction\n",
    "bad_tx = Transaction.new_transaction(\"beta\", hex(sender_n), hex(receiver_n), \"2018-12-08T08:28:38\", 10000)\n",
    "payload = bad_tx.get_payload()\n",
    "hash_ = crypto.get_hash(payload)\n",
    "bad_tx.set_hash(hash_)\n",
    "bad_tx.set_sign(crypto.sign(sender, bad_tx.hash))\n",
    "\n",
    "if blockchain.validate_transaction(new_tx, block_set[4]):\n",
    "    print(\"PASS\")\n",
    "else:\n",
    "    print(\"FAIL\")\n",
    "if blockchain.validate_transaction(bad_tx, block_set[4]):\n",
    "    print(\"FAIL\")\n",
    "else:\n",
    "    print(\"PASS\")\n",
    "if blockchain.validate_transaction(tx_set[2], block_set[4]):\n",
    "    print(\"FAIL\")\n",
    "else:\n",
    "    print(\"PASS\")"
   ]
  },
  {
   "cell_type": "markdown",
   "metadata": {},
   "source": [
    "### Problem 4: `Blockchain.validate_block`\n",
    "\n",
    "Implement `def validate_block(self, block: Block)` function in [blockchain.py](/edit/blends/node/blockchain/blockchain.py)\n",
    "\n",
    "* This function checks if the entire block is correct.\n",
    "* It checks if the parent block exists.\n",
    "* It checks if the balance of the block is all correct.\n",
    "* If the block passes all the above checks, the function returns `True`; otherwise `False`."
   ]
  },
  {
   "cell_type": "code",
   "execution_count": 20,
   "metadata": {
    "scrolled": true
   },
   "outputs": [
    {
     "name": "stdout",
     "output_type": "stream",
     "text": [
      "PASS\n",
      "PASS\n",
      "PASS\n",
      "PASS\n",
      "PASS\n",
      "No Parent Block\n",
      "PASS\n"
     ]
    },
    {
     "ename": "NameError",
     "evalue": "name 'Error' is not defined",
     "output_type": "error",
     "traceback": [
      "\u001b[0;31m---------------------------------------------------------------------------\u001b[0m",
      "\u001b[0;31mNameError\u001b[0m                                 Traceback (most recent call last)",
      "\u001b[0;32m<ipython-input-20-caf1aa71a5ec>\u001b[0m in \u001b[0;36m<module>\u001b[0;34m\u001b[0m\n\u001b[1;32m     19\u001b[0m \u001b[0;34m\u001b[0m\u001b[0m\n\u001b[1;32m     20\u001b[0m \u001b[0mblock\u001b[0m \u001b[0;34m=\u001b[0m \u001b[0mBlock\u001b[0m\u001b[0;34m.\u001b[0m\u001b[0mnew_block\u001b[0m\u001b[0;34m(\u001b[0m\u001b[0;34m\"test\"\u001b[0m\u001b[0;34m,\u001b[0m \u001b[0;34m\"0x12313\"\u001b[0m\u001b[0;34m,\u001b[0m \u001b[0mutil\u001b[0m\u001b[0;34m.\u001b[0m\u001b[0mnow\u001b[0m\u001b[0;34m(\u001b[0m\u001b[0;34m)\u001b[0m\u001b[0;34m,\u001b[0m \u001b[0mhex\u001b[0m\u001b[0;34m(\u001b[0m\u001b[0msender_n\u001b[0m\u001b[0;34m)\u001b[0m\u001b[0;34m,\u001b[0m \u001b[0;36m0\u001b[0m\u001b[0;34m)\u001b[0m\u001b[0;34m\u001b[0m\u001b[0;34m\u001b[0m\u001b[0m\n\u001b[0;32m---> 21\u001b[0;31m \u001b[0;32mif\u001b[0m \u001b[0mblockchain\u001b[0m\u001b[0;34m.\u001b[0m\u001b[0mvalidate_block\u001b[0m\u001b[0;34m(\u001b[0m\u001b[0mblock\u001b[0m\u001b[0;34m)\u001b[0m \u001b[0;32mand\u001b[0m \u001b[0;32mnot\u001b[0m \u001b[0mblockchain\u001b[0m\u001b[0;34m.\u001b[0m\u001b[0mverifier\u001b[0m\u001b[0;34m.\u001b[0m\u001b[0mverify_block\u001b[0m\u001b[0;34m(\u001b[0m\u001b[0mblock\u001b[0m\u001b[0;34m)\u001b[0m\u001b[0;34m:\u001b[0m\u001b[0;34m\u001b[0m\u001b[0;34m\u001b[0m\u001b[0m\n\u001b[0m\u001b[1;32m     22\u001b[0m     \u001b[0mprint\u001b[0m\u001b[0;34m(\u001b[0m\u001b[0;34m\"FAIL\"\u001b[0m\u001b[0;34m)\u001b[0m\u001b[0;34m\u001b[0m\u001b[0;34m\u001b[0m\u001b[0m\n\u001b[1;32m     23\u001b[0m \u001b[0;32melse\u001b[0m\u001b[0;34m:\u001b[0m\u001b[0;34m\u001b[0m\u001b[0;34m\u001b[0m\u001b[0m\n",
      "\u001b[0;32m~/CS443-BLENDSv2/blends/node/blockchain/blockchain.py\u001b[0m in \u001b[0;36mvalidate_block\u001b[0;34m(self, block)\u001b[0m\n\u001b[1;32m     59\u001b[0m             \u001b[0mprint\u001b[0m\u001b[0;34m(\u001b[0m\u001b[0;34m\"No Parent Block\"\u001b[0m\u001b[0;34m)\u001b[0m\u001b[0;34m\u001b[0m\u001b[0;34m\u001b[0m\u001b[0m\n\u001b[1;32m     60\u001b[0m             \u001b[0;32mreturn\u001b[0m \u001b[0;32mFalse\u001b[0m\u001b[0;34m\u001b[0m\u001b[0;34m\u001b[0m\u001b[0m\n\u001b[0;32m---> 61\u001b[0;31m         \u001b[0mpbalance\u001b[0m \u001b[0;34m=\u001b[0m \u001b[0mself\u001b[0m\u001b[0;34m.\u001b[0m\u001b[0mdbmanager\u001b[0m\u001b[0;34m.\u001b[0m\u001b[0mget_block_balance\u001b[0m\u001b[0;34m(\u001b[0m\u001b[0mpayloadDict\u001b[0m\u001b[0;34m[\u001b[0m\u001b[0;34m\"parent\"\u001b[0m\u001b[0;34m]\u001b[0m\u001b[0;34m)\u001b[0m\u001b[0;34m\u001b[0m\u001b[0;34m\u001b[0m\u001b[0m\n\u001b[0m\u001b[1;32m     62\u001b[0m         \u001b[0mminer\u001b[0m \u001b[0;34m=\u001b[0m \u001b[0mpayloadDict\u001b[0m\u001b[0;34m[\u001b[0m\u001b[0;34m\"miner\"\u001b[0m\u001b[0;34m]\u001b[0m\u001b[0;34m\u001b[0m\u001b[0;34m\u001b[0m\u001b[0m\n\u001b[1;32m     63\u001b[0m         \u001b[0;32mfor\u001b[0m \u001b[0mtx\u001b[0m \u001b[0;32min\u001b[0m \u001b[0mtxs\u001b[0m\u001b[0;34m:\u001b[0m\u001b[0;34m\u001b[0m\u001b[0;34m\u001b[0m\u001b[0m\n",
      "\u001b[0;32m~/CS443-BLENDSv2/blends/node/blockchain/dbmanager.py\u001b[0m in \u001b[0;36mget_block_balance\u001b[0;34m(self, block_hash)\u001b[0m\n\u001b[1;32m     92\u001b[0m                 \u001b[0;32mreturn\u001b[0m \u001b[0mbalance\u001b[0m\u001b[0;34m\u001b[0m\u001b[0;34m\u001b[0m\u001b[0m\n\u001b[1;32m     93\u001b[0m             \u001b[0;32melse\u001b[0m\u001b[0;34m:\u001b[0m\u001b[0;34m\u001b[0m\u001b[0;34m\u001b[0m\u001b[0m\n\u001b[0;32m---> 94\u001b[0;31m                 \u001b[0;32mraise\u001b[0m \u001b[0mError\u001b[0m\u001b[0;34m\u001b[0m\u001b[0;34m\u001b[0m\u001b[0m\n\u001b[0m\u001b[1;32m     95\u001b[0m         \u001b[0;32mwhile\u001b[0m\u001b[0;34m(\u001b[0m\u001b[0;32mTrue\u001b[0m\u001b[0;34m)\u001b[0m\u001b[0;34m:\u001b[0m\u001b[0;34m\u001b[0m\u001b[0;34m\u001b[0m\u001b[0m\n\u001b[1;32m     96\u001b[0m             \u001b[0mpayload\u001b[0m \u001b[0;34m=\u001b[0m \u001b[0mblock\u001b[0m\u001b[0;34m.\u001b[0m\u001b[0mget_payload_dict\u001b[0m\u001b[0;34m(\u001b[0m\u001b[0;34m)\u001b[0m\u001b[0;34m\u001b[0m\u001b[0;34m\u001b[0m\u001b[0m\n",
      "\u001b[0;31mNameError\u001b[0m: name 'Error' is not defined"
     ]
    }
   ],
   "source": [
    "from blends.node.blockchain.blockchain import Blockchain\n",
    "blockchain = Blockchain(\"sqlite:///scenario.db\")\n",
    "# Test  \n",
    "session = dbmanager.get_session()\n",
    "block_set = session.query(Block).all()\n",
    "tx_set = session.query(Transaction).all()\n",
    "\n",
    "for block in block_set:\n",
    "    if blockchain.validate_block(block):\n",
    "        print(\"PASS\")\n",
    "    else:\n",
    "        print(\"FAIL\")\n",
    "        \n",
    "block = Block.new_block(\"test\", None, util.now(), hex(sender_n), 0)\n",
    "if blockchain.validate_block(block) and not blockchain.verifier.verify_block(block):\n",
    "    print(\"FAIL\")\n",
    "else:\n",
    "    print(\"PASS\")\n",
    "     \n",
    "block = Block.new_block(\"test\", \"0x12313\", util.now(), hex(sender_n), 0)\n",
    "print(\"hash?:\", block.get_header()[\"hash\"])\n",
    "if blockchain.validate_block(block) and not blockchain.verifier.verify_block(block):\n",
    "    print(\"FAIL\")\n",
    "else:\n",
    "    print(\"PASS\")\n",
    "    \n",
    "\n",
    "ill_block_set = []\n",
    "ill_block_set.append(copy.deepcopy(block_set[0]))\n",
    "ill_block_set.append(copy.deepcopy(block_set[1]))\n",
    "ill_block_set[0].parent = \"0xdeadbeef\"\n",
    "ill_block_set[1].txs.append(Transaction.new_transaction(\"beta\", hex(sender_n), hex(receiver_n), \"2018-12-08T08:28:38\", 10000)) \n",
    "\n",
    "for block in ill_block_set:\n",
    "    if blockchain.validate_block(block) and not blockchain.verifier.verify_block(block):\n",
    "        print(\"FAIL\")\n",
    "    else:\n",
    "        print(\"PASS\")\n",
    "\n"
   ]
  },
  {
   "cell_type": "markdown",
   "metadata": {},
   "source": [
    "## Section 4: Mining\n",
    "\n",
    "In this section, you will implement mining. \n",
    "\n",
    "BLENDS uses basic PoW (Proof-of-Work) based consensous algorithm. \n",
    "\n",
    "### Problem 1: `mine_block`\n",
    "\n",
    "Implement`mine_block` function in [miner.py](/edit/blends/node/miner/miner.py) \n",
    "\n",
    "In the function, you have to generate a hash value which has higher difficulty than the `self.block`'s difficulty.\n",
    "\n",
    "\n",
    "* You should update `timestamp` periodically.\n",
    "* You can access `hash`, `nonce`, `timestamp`, `difficulty` by accessing `self.block.<field_name>`.\n",
    "* `difficulty` is read-only value. You should update the others.\n",
    "*  If a new block is mint, the function returns `True`\n",
    "* In this test code, you mine a block with low difficulty.\n"
   ]
  },
  {
   "cell_type": "code",
   "execution_count": null,
   "metadata": {},
   "outputs": [],
   "source": [
    "import threading\n",
    "\n",
    "from blends.node.miner import Miner\n",
    "from blends.node.model import Block, Transaction\n",
    "from blends.node.blockchain.verifier import Verifier\n",
    "from blends.node import crypto, util\n",
    "\n",
    "key = crypto.load_secret_key('key0.json')\n",
    "key1 = crypto.load_secret_key('key1.json')\n",
    "key2 = crypto.load_secret_key('key2.json')\n",
    "f = open('key0.json', 'r')\n",
    "key_n = int(json.loads(f.read())['modulus'],16)\n",
    "f = open('key1.json', 'r')\n",
    "key1_n = int(json.loads(f.read())['modulus'],16)\n",
    "f = open('key2.json', 'r')\n",
    "key2_n = int(json.loads(f.read())['modulus'],16)\n",
    "\n",
    "DIFFICULTY = 0\n",
    "\n",
    "block = Block.new_block(\"testing\", '0xdecaf', util.now(), hex(key_n), DIFFICULTY)\n",
    "\n",
    "tx1 =  Transaction.new_transaction(\"testing\", hex(key_n), hex(key1_n), util.now(), 1)\n",
    "tx1.set_hash(crypto.get_hash(tx1.get_payload()))\n",
    "tx1.set_sign(crypto.sign(key, tx1.hash))\n",
    "\n",
    "tx2 =  Transaction.new_transaction(\"testing\", hex(key_n), hex(key1_n), util.now(), 3)\n",
    "tx2.set_hash(crypto.get_hash(tx2.get_payload()))\n",
    "tx2.set_sign(crypto.sign(key, tx2.hash))\n",
    "\n",
    "block.txs.append(tx1)\n",
    "block.txs.append(tx2)\n",
    "\n",
    "mining = threading.Event()\n",
    "mining.set()\n",
    "\n",
    "miner = Miner(block, mining)\n",
    "print(\"Start Mining: be patient.\")\n",
    "if miner.mine_block():\n",
    "    \n",
    "    verifier = Verifier()\n",
    "    if verifier.verify_block(miner.block):\n",
    "        print(\"PASS\", miner.block)\n",
    "    else:\n",
    "        print(\"FAIL\")\n",
    "        print(miner.block)\n",
    "        print(miner.block.get_header())\n",
    "        print(miner.block.get_payload())\n",
    "\n",
    "print(\"Done\")"
   ]
  },
  {
   "cell_type": "markdown",
   "metadata": {},
   "source": [
    "### Problem 2: Mining a Real Block\n",
    "\n",
    "Finally, you have to mine a new block with same dificulty in our blockchain.\n",
    "\n",
    "* A new block will be inserted in the `scenario.db`. Database insertion requires addtional constraint checkings. If it fails, you should check formats of your model implementations.\n",
    "* Mining a block with high difficulty consumes much time (hours). You should optimize your codes for faster mining.\n"
   ]
  },
  {
   "cell_type": "code",
   "execution_count": null,
   "metadata": {},
   "outputs": [],
   "source": [
    "DIFFICULTY = 4\n",
    "\n",
    "\n",
    "parent = blockchain.get_current()\n",
    "\n",
    "block = Block.new_block(\"beta\", parent.hash, util.now(), hex(key_n), DIFFICULTY)\n",
    "\n",
    "tx1 =  Transaction.new_transaction(\"beta\", hex(key_n), hex(key1_n), util.now(), 1)\n",
    "tx1.set_hash(crypto.get_hash(tx1.get_payload()))\n",
    "tx1.set_sign(crypto.sign(key, tx1.hash))\n",
    "\n",
    "block.txs.append(tx1)\n",
    "\n",
    "import shutil\n",
    "shutil.copy2('scenario.db', 'scenario_mining.db')\n",
    "blockchain = Blockchain(\"sqlite:///scenario_mining.db\")\n",
    "\n",
    "\n",
    "miner = Miner(block, mining)\n",
    "print(\"Start Mining: be patient.\")\n",
    "if miner.mine_block():\n",
    "\n",
    "    if blockchain.append(miner.block):\n",
    "        print(\"PASS\", miner.block)\n",
    "    else:\n",
    "        print(\"FAIL\")\n",
    "\n",
    "\n",
    "else:\n",
    "    print(\"FAIL\")\n",
    "    print(miner.block)\n",
    "    print(miner.block.get_header())\n",
    "    print(miner.block.get_payload())\n",
    "\n",
    "print(\"Done\")\n"
   ]
  }
 ],
 "metadata": {
  "kernelspec": {
   "display_name": "Python 3",
   "language": "python",
   "name": "python3"
  },
  "language_info": {
   "codemirror_mode": {
    "name": "ipython",
    "version": 3
   },
   "file_extension": ".py",
   "mimetype": "text/x-python",
   "name": "python",
   "nbconvert_exporter": "python",
   "pygments_lexer": "ipython3",
   "version": "3.6.7"
  }
 },
 "nbformat": 4,
 "nbformat_minor": 2
}
